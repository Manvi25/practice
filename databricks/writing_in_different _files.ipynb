{
 "cells": [
  {
   "cell_type": "code",
   "execution_count": 0,
   "metadata": {
    "application/vnd.databricks.v1+cell": {
     "cellMetadata": {
      "byteLimit": 2048000,
      "rowLimit": 10000
     },
     "inputWidgets": {},
     "nuid": "b5d9f7af-c333-4e49-9d3f-50d25d1df535",
     "showTitle": false,
     "title": ""
    }
   },
   "outputs": [],
   "source": [
    "# Sample DataFrame\n",
    "data = [(\"Mannvi\", 22, \"F\"),\n",
    "        (\"Sakshi\", 23, \"F\"),\n",
    "        (\"Ishita\", 21, \"F\"),\n",
    "        (\"Rahul\", 24, \"M\")]\n",
    "\n",
    "columns = [\"Name\", \"Age\", \"Gender\"]\n",
    "df = spark.createDataFrame(data, columns)\n",
    "\n",
    "# Writing Data to CSV File\n",
    "df.write.csv(\"/dbfs/tmp/csv_file.csv\", header=True)\n",
    "\n",
    "# Writing Data to Parquet File\n",
    "df.write.parquet(\"/dbfs/tmp/parquet_file.parquet\")\n",
    "\n",
    "# Writing Data to JSON File\n",
    "df.write.json(\"/dbfs/tmp/json_file.json\")\n"
   ]
  }
 ],
 "metadata": {
  "application/vnd.databricks.v1+notebook": {
   "dashboards": [],
   "language": "python",
   "notebookMetadata": {
    "pythonIndentUnit": 4
   },
   "notebookName": "writing_in_different _files",
   "widgets": {}
  }
 },
 "nbformat": 4,
 "nbformat_minor": 0
}

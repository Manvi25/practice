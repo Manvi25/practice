{
 "cells": [
  {
   "cell_type": "code",
   "execution_count": 0,
   "metadata": {
    "application/vnd.databricks.v1+cell": {
     "cellMetadata": {
      "byteLimit": 2048000,
      "rowLimit": 10000
     },
     "inputWidgets": {},
     "nuid": "b5d9f7af-c333-4e49-9d3f-50d25d1df535",
     "showTitle": false,
     "title": ""
    }
   },
   "outputs": [],
   "source": [
    "# Sample DataFrame\n",
    "data = [(\"John\", 25, \"M\"),\n",
    "        (\"Anna\", 35, \"F\"),\n",
    "        (\"Mike\", 30, \"M\"),\n",
    "        (\"Emily\", 28, \"F\")]\n",
    "\n",
    "columns = [\"Name\", \"Age\", \"Gender\"]\n",
    "df = spark.createDataFrame(data, columns)\n",
    "\n",
    "# Writing Data to CSV File\n",
    "df.write.csv(\"/dbfs/tmp/csv_file.csv\", header=True)\n",
    "\n",
    "# Writing Data to Parquet File\n",
    "df.write.parquet(\"/dbfs/tmp/parquet_file.parquet\")\n",
    "\n",
    "# Writing Data to JSON File\n",
    "df.write.json(\"/dbfs/tmp/json_file.json\")\n"
   ]
  }
 ],
 "metadata": {
  "application/vnd.databricks.v1+notebook": {
   "dashboards": [],
   "language": "python",
   "notebookMetadata": {
    "pythonIndentUnit": 4
   },
   "notebookName": "writing_in_different _files",
   "widgets": {}
  }
 },
 "nbformat": 4,
 "nbformat_minor": 0
}

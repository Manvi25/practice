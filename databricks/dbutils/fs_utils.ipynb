{
 "cells": [
  {
   "cell_type": "code",
   "execution_count": 0,
   "metadata": {
    "application/vnd.databricks.v1+cell": {
     "cellMetadata": {
      "byteLimit": 2048000,
      "rowLimit": 10000
     },
     "inputWidgets": {},
     "nuid": "4c4903ba-8a45-44ef-bad1-219f6d67362a",
     "showTitle": false,
     "title": ""
    }
   },
   "outputs": [
    {
     "output_type": "stream",
     "name": "stdout",
     "output_type": "stream",
     "text": [
      "Out[3]: True"
     ]
    }
   ],
   "source": [
    "dbutils.fs.cp('/FileStore/2010_summary.csv','/dbfs/temp/2010_summary.csv')"
   ]
  },
  {
   "cell_type": "code",
   "execution_count": 0,
   "metadata": {
    "application/vnd.databricks.v1+cell": {
     "cellMetadata": {
      "byteLimit": 2048000,
      "rowLimit": 10000
     },
     "inputWidgets": {},
     "nuid": "f93f3354-371d-4540-84f5-7ceebb635b7e",
     "showTitle": false,
     "title": ""
    }
   },
   "outputs": [
    {
     "output_type": "stream",
     "name": "stdout",
     "output_type": "stream",
     "text": [
      "Out[6]: 'DEST_COUNTRY_NAME,ORIGIN_COUNTRY_NAME,count\\nUnited States,Romania,1\\nUnited States,Ireland,264\\nUnited States,India,69\\nEgypt,United States,24\\nEquatorial Guinea,United States,1\\nUnited States,Singapore,25\\nUnited States,Grenada,54\\nCosta Rica,United States,477\\nSenegal,United States,29\\nUnited States,Marshall Islands,44\\nGuyana,United States,17\\nUnited States,Sint Maarten,53\\nMalta,United States,1\\nBolivia,United States,46\\nAnguilla,United States,21\\nTurks and Caicos Islands,United States,136\\nUnited States,Afghanistan,2\\nSaint Vincent and the Grenadines,United States,1\\nItaly,United States,390\\nUnited States,Russia,156\\nUnited States,Federated States of Micronesia,48\\nPakistan,United States,9\\nUnited States,Netherlands,570\\nIceland,United States,118\\nMarshall Islands,United States,77\\nLuxembourg,United States,91\\nHonduras,United States,391\\nThe Bahamas,United States,903\\nEl Salvador,United States,519\\nUnited States,Senegal,46\\nSamoa,United States,28\\nUnited States,Angola,18\\nKazakhstan,United States,3\\nSwitzerland,United States,315\\nUnited States,Anguilla,20\\nSint Maarten,United States,61\\nHong Kong,United States,252\\nTrinidad and Tobago,United States,187\\nLatvia,United States,12\\nUnited States,Ecuador,345\\nSlovakia,United States,1\\nSuriname,United States,12\\nMexico,United States,6200\\nUnited States,Cyprus,1\\nEcuador,United States,272\\nUnited States,Bosnia and Herzegovina,1\\nUnited States,Portugal,104\\nUnited States,Costa Rica,501\\nUnited States,Guatemala,333\\nUnited States,Suriname,13\\nColombia,United States,785\\nUnited States,Cape Verde,18\\nUnited States,Jamaica,757\\nUnited States,Malaysia,3\\nNorway,United States,29\\nUnited States,Morocco,16\\nThailand,United States,16\\nVenezuela,United States,377\\nUnited States,Palau,30\\nUnited States,Samoa,28\\nUnited States,Algeria,1\\nUnited States,Venezuela,341\\nPanama,United States,355\\nUnited States,Finland,20\\nUnited States,Chile,176\\nMorocco,United States,16\\nUnited States,Greece,61\\nAntigua and Barbuda,United States,123\\nAzerbaijan,United States,1\\nUnited States,The Bahamas,959\\nNew Zealand,United States,86\\nLiberia,United States,1\\nUnited States,Hong Kong,293\\nHungary,United States,14\\nUnited States,China,505\\nUnited States,Vietnam,1\\nSweden,United States,65\\nUnited States,Kuwait,25\\nUnited States,Dominican Republic,1150\\nUnited States,Egypt,25\\nIsrael,United States,117\\nUnited States,United States,348113\\nUnited States,Luxembourg,90\\nEthiopia,United States,12\\nUnited States,Poland,61\\nMartinique,United States,23\\nSaint Barthelemy,United States,28\\nUnited States,Saint Barthelemy,29\\nUnited States,Turkey,87\\nBarbados,United States,130\\nUnited States,Estonia,1\\nUnited States,Azerbaijan,1\\nGermany,United States,1392\\nKyrgyzstan,United States,2\\nUnited States,South Korea,621\\nUnited States,El Salvador,464\\nIreland,United States,231\\nUnited States,Hungary,15\\nUnited States,Serbia,1\\nMalaysia,United States,1\\nUnited States,Panama,363\\nUnited States,Ethiopia,12\\nUnited States,Aruba,349\\nUnited States,Thailand,13\\nUnited States,Netherlands Antilles,289\\nUnited States,Turks and Caicos Islands,147\\nCyprus,United States,2\\nUnited States,Pakistan,15\\nUnited States,Honduras,393\\nQatar,United States,41\\nFiji,United States,53\\nSaint Kitts and Nevis,United States,113\\nTaiwan,United States,275\\nHaiti,United States,238\\nKuwait,United States,26\\nCanada,United States,8271\\nFederated States of Micronesia,United States,46\\nUnited States,Liberia,1\\nJamaica,United States,733\\nUnited States,Malta,2\\nDominican Republic,United States,1109\\nJapan,United States,1383\\nUnited States,Saint Vincent and the Grenadines,16\\nUnited States,Guadeloupe,33\\nFinland,United States,24\\nUnited States,Ukraine,17\\nUnited States,France,776\\nUnited States,Norway,36\\nAruba,United States,359\\nFrench Guiana,United States,4\\nUnited States,Kiribati,18\\nIndia,United States,66\\nBritish Virgin Islands,United States,49\\nUnited States,Germany,1406\\nBrazil,United States,995\\nUnited States,New Zealand,71\\nFrench Polynesia,United States,38\\nUnited Arab Emirates,United States,165\\nSingapore,United States,25\\nUnited States,Mexico,6220\\nNetherlands,United States,586\\nUnited States,Sweden,73\\nUnited States,Gabon,1\\nUnited States,Martinique,20\\nUnited States,United Arab Emirates,156\\nUnited States,Bulgaria,2\\nChina,United States,448\\nDenmark,United States,98\\nUnited States,Philippines,116\\nUnited States,Nicaragua,181\\nUnited States,Belgium,355\\nPeru,United States,212\\nArgentina,United States,184\\nCayman Islands,United States,247\\nSouth Africa,United States,25\\nUnited States,Iceland,129\\nUnited States,Argentina,159\\nSpain,United States,422\\nNetherlands Antilles,United States,286\\nBermuda,United States,183\\nUnited States,Austria,34\\nUnited States,Nigeria,18\\nUnited States,\"Bonaire, Sint Eustatius, and Saba\",16\\nKiribati,United States,17\\nSaudi Arabia,United States,42\\nCzech Republic,United States,21\\nBelgium,United States,408\\nUnited States,Israel,122\\nUnited States,Bahrain,1\\nUnited States,Saint Lucia,121\\nAfghanistan,United States,11\\nUnited States,British Virgin Islands,47\\nCuracao,United States,20\\nGeorgia,United States,2\\nUnited States,Guyana,20\\nUnited States,Denmark,107\\nPhilippines,United States,132\\nGrenada,United States,65\\nCape Verde,United States,18\\nUkraine,United States,19\\nUnited States,Papua New Guinea,1\\nUnited States,Saudi Arabia,54\\nRussia,United States,152\\nGuatemala,United States,386\\nSaint Lucia,United States,116\\nParaguay,United States,90\\nUnited States,Curacao,14\\nUnited States,Taiwan,252\\nUnited States,South Africa,15\\nTurkey,United States,75\\nUnited Kingdom,United States,1629\\nUnited States,Greenland,2\\nUnited States,Spain,442\\nCuba,United States,243\\nUnited States,Italy,433\\nUnited States,Switzerland,334\\nDominica,United States,28\\nUnited States,Japan,1307\\nPortugal,United States,102\\nUnited States,Brazil,578\\nBahrain,United States,30\\nUnited States,Peru,284\\nVietnam,United States,1\\nUnited States,United Kingdom,1503\\nUnited States,Belize,118\\nBelize,United States,121\\nUnited States,Ghana,28\\nUnited States,Indonesia,1\\nUnited States,Fiji,51\\nUnited States,Canada,8305\\nUnited States,French Polynesia,38\\nUnited States,Antigua and Barbuda,121\\nUnited States,Burkina Faso,1\\nNicaragua,United States,178\\nUnited States,Latvia,13\\nUnited States,Dominica,32\\nUnited States,Czech Republic,22\\nUnited States,Australia,216\\nAustria,United States,36\\nUnited States,Cook Islands,12\\nJordan,United States,50\\nPalau,United States,31\\nUganda,United States,2\\nUnited States,Cameroon,1\\nSouth Korea,United States,683\\nAngola,United States,14\\nGhana,United States,27\\nGuadeloupe,United States,40\\nFrance,United States,774\\nUnited States,Kyrgyzstan,12\\nPoland,United States,62\\nNigeria,United States,16\\nUnited States,Uruguay,24\\nGreenland,United States,2\\nChile,United States,166\\nUnited States,Bermuda,180\\nUnited States,Cuba,235\\nUnited States,Colombia,832\\nUnited States,Qatar,40\\nUnited States,Barbados,119\\nAustralia,United States,290\\nUnited States,Jordan,51\\nUnited States,Cayman Islands,251\\nUnited States,Trinidad and Tobago,200\\nUnited States,Bolivia,39\\nUnited States,Slovakia,1\\nUruguay,United States,54\\nCook Islands,United States,13\\nUnited States,Saint Kitts and Nevis,127\\nBulgaria,United States,1\\nUnited States,French Guiana,1\\nUnited States,Haiti,226\\nUnited States,Uganda,1\\n\"Bonaire, Sint Eustatius, and Saba\",United States,16\\nGreece,United States,50\\n'"
     ]
    }
   ],
   "source": [
    "dbutils.fs.head('/dbfs/temp/2010_summary.csv')"
   ]
  },
  {
   "cell_type": "code",
   "execution_count": 0,
   "metadata": {
    "application/vnd.databricks.v1+cell": {
     "cellMetadata": {
      "byteLimit": 2048000,
      "rowLimit": 10000
     },
     "inputWidgets": {},
     "nuid": "6a422b31-5f6b-4119-87c6-7caa044cb411",
     "showTitle": false,
     "title": ""
    }
   },
   "outputs": [
    {
     "output_type": "stream",
     "name": "stdout",
     "output_type": "stream",
     "text": [
      "Out[7]: True"
     ]
    }
   ],
   "source": [
    "dbutils.fs.mkdirs('/FileStore/data/')"
   ]
  },
  {
   "cell_type": "code",
   "execution_count": 0,
   "metadata": {
    "application/vnd.databricks.v1+cell": {
     "cellMetadata": {
      "byteLimit": 2048000,
      "rowLimit": 10000
     },
     "inputWidgets": {},
     "nuid": "57f8bbae-6da3-4f5c-857c-1969dfed64e9",
     "showTitle": false,
     "title": ""
    }
   },
   "outputs": [
    {
     "output_type": "stream",
     "name": "stdout",
     "output_type": "stream",
     "text": [
      "Out[8]: True"
     ]
    }
   ],
   "source": [
    "dbutils.fs.rm('user/hive/warehouse/temp/part-00000-tid-2768621510955662498-2ebc38b1-9efd-4868-a36e-f1af8c5b0464-55-1-c000.snappy.parquet')"
   ]
  },
  {
   "cell_type": "code",
   "execution_count": 0,
   "metadata": {
    "application/vnd.databricks.v1+cell": {
     "cellMetadata": {
      "byteLimit": 2048000,
      "rowLimit": 10000
     },
     "inputWidgets": {},
     "nuid": "ae0445bf-6a4a-481b-8fc8-1a03bce87ed2",
     "showTitle": false,
     "title": ""
    }
   },
   "outputs": [
    {
     "output_type": "stream",
     "name": "stdout",
     "output_type": "stream",
     "text": [
      "Out[9]: [FileInfo(path='dbfs:/FileStore/2010_summary.csv', name='2010_summary.csv', size=7121, modificationTime=1712829942000),\n FileInfo(path='dbfs:/FileStore/data/', name='data/', size=0, modificationTime=0),\n FileInfo(path='dbfs:/FileStore/tables/', name='tables/', size=0, modificationTime=0)]"
     ]
    }
   ],
   "source": [
    "dbutils.fs.ls('/FileStore/')"
   ]
  },
  {
   "cell_type": "code",
   "execution_count": 0,
   "metadata": {
    "application/vnd.databricks.v1+cell": {
     "cellMetadata": {
      "byteLimit": 2048000,
      "rowLimit": 10000
     },
     "inputWidgets": {},
     "nuid": "1782ad5b-6481-40ce-be02-a77142cd6428",
     "showTitle": false,
     "title": ""
    }
   },
   "outputs": [
    {
     "output_type": "stream",
     "name": "stdout",
     "output_type": "stream",
     "text": [
      "Out[18]: True"
     ]
    }
   ],
   "source": [
    "dbutils.fs.mv('/FileStore/temp1/text.txt','FileStore/temp/text.txt')"
   ]
  },
  {
   "cell_type": "code",
   "execution_count": 0,
   "metadata": {
    "application/vnd.databricks.v1+cell": {
     "cellMetadata": {
      "byteLimit": 2048000,
      "rowLimit": 10000
     },
     "inputWidgets": {},
     "nuid": "be03e050-4287-4348-8900-b282da6db2df",
     "showTitle": false,
     "title": ""
    }
   },
   "outputs": [
    {
     "output_type": "stream",
     "name": "stdout",
     "output_type": "stream",
     "text": [
      "Wrote 40 bytes.\nOut[19]: True"
     ]
    }
   ],
   "source": [
    "dbutils.fs.put('FileStore/temp/text.txt','this line is added through put statement', True)"
   ]
  }
 ],
 "metadata": {
  "application/vnd.databricks.v1+notebook": {
   "dashboards": [],
   "language": "python",
   "notebookMetadata": {
    "pythonIndentUnit": 4
   },
   "notebookName": "fsutility 2024-04-11 15:28:55",
   "widgets": {}
  }
 },
 "nbformat": 4,
 "nbformat_minor": 0
}

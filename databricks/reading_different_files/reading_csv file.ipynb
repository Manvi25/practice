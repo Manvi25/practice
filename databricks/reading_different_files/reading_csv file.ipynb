{
 "cells": [
  {
   "cell_type": "code",
   "execution_count": 0,
   "metadata": {
    "application/vnd.databricks.v1+cell": {
     "cellMetadata": {
      "byteLimit": 2048000,
      "rowLimit": 10000
     },
     "inputWidgets": {},
     "nuid": "d2002ce5-e955-4844-a4f5-fc58b54edc41",
     "showTitle": false,
     "title": ""
    }
   },
   "outputs": [
    {
     "output_type": "display_data",
     "data": {
      "text/html": [
       "<style scoped>\n",
       "  .table-result-container {\n",
       "    max-height: 300px;\n",
       "    overflow: auto;\n",
       "  }\n",
       "  table, th, td {\n",
       "    border: 1px solid black;\n",
       "    border-collapse: collapse;\n",
       "  }\n",
       "  th, td {\n",
       "    padding: 5px;\n",
       "  }\n",
       "  th {\n",
       "    text-align: left;\n",
       "  }\n",
       "</style><div class='table-result-container'><table class='table-result'><thead style='background-color: white'><tr><th>value</th></tr></thead><tbody><tr><td>DEST_COUNTRY_NAME,ORIGIN_COUNTRY_NAME,count</td></tr><tr><td>United States,Romania,1</td></tr><tr><td>United States,Ireland,264</td></tr><tr><td>United States,India,69</td></tr><tr><td>Egypt,United States,24</td></tr><tr><td>Equatorial Guinea,United States,1</td></tr><tr><td>United States,Singapore,25</td></tr><tr><td>United States,Grenada,54</td></tr><tr><td>Costa Rica,United States,477</td></tr><tr><td>Senegal,United States,29</td></tr><tr><td>United States,Marshall Islands,44</td></tr><tr><td>Guyana,United States,17</td></tr><tr><td>United States,Sint Maarten,53</td></tr><tr><td>Malta,United States,1</td></tr><tr><td>Bolivia,United States,46</td></tr><tr><td>Anguilla,United States,21</td></tr><tr><td>Turks and Caicos Islands,United States,136</td></tr><tr><td>United States,Afghanistan,2</td></tr><tr><td>Saint Vincent and the Grenadines,United States,1</td></tr><tr><td>Italy,United States,390</td></tr><tr><td>United States,Russia,156</td></tr><tr><td>United States,Federated States of Micronesia,48</td></tr><tr><td>Pakistan,United States,9</td></tr><tr><td>United States,Netherlands,570</td></tr><tr><td>Iceland,United States,118</td></tr><tr><td>Marshall Islands,United States,77</td></tr><tr><td>Luxembourg,United States,91</td></tr><tr><td>Honduras,United States,391</td></tr><tr><td>The Bahamas,United States,903</td></tr><tr><td>El Salvador,United States,519</td></tr><tr><td>United States,Senegal,46</td></tr><tr><td>Samoa,United States,28</td></tr><tr><td>United States,Angola,18</td></tr><tr><td>Kazakhstan,United States,3</td></tr><tr><td>Switzerland,United States,315</td></tr><tr><td>United States,Anguilla,20</td></tr><tr><td>Sint Maarten,United States,61</td></tr><tr><td>Hong Kong,United States,252</td></tr><tr><td>Trinidad and Tobago,United States,187</td></tr><tr><td>Latvia,United States,12</td></tr><tr><td>United States,Ecuador,345</td></tr><tr><td>Slovakia,United States,1</td></tr><tr><td>Suriname,United States,12</td></tr><tr><td>Mexico,United States,6200</td></tr><tr><td>United States,Cyprus,1</td></tr><tr><td>Ecuador,United States,272</td></tr><tr><td>United States,Bosnia and Herzegovina,1</td></tr><tr><td>United States,Portugal,104</td></tr><tr><td>United States,Costa Rica,501</td></tr><tr><td>United States,Guatemala,333</td></tr><tr><td>United States,Suriname,13</td></tr><tr><td>Colombia,United States,785</td></tr><tr><td>United States,Cape Verde,18</td></tr><tr><td>United States,Jamaica,757</td></tr><tr><td>United States,Malaysia,3</td></tr><tr><td>Norway,United States,29</td></tr><tr><td>United States,Morocco,16</td></tr><tr><td>Thailand,United States,16</td></tr><tr><td>Venezuela,United States,377</td></tr><tr><td>United States,Palau,30</td></tr><tr><td>United States,Samoa,28</td></tr><tr><td>United States,Algeria,1</td></tr><tr><td>United States,Venezuela,341</td></tr><tr><td>Panama,United States,355</td></tr><tr><td>United States,Finland,20</td></tr><tr><td>United States,Chile,176</td></tr><tr><td>Morocco,United States,16</td></tr><tr><td>United States,Greece,61</td></tr><tr><td>Antigua and Barbuda,United States,123</td></tr><tr><td>Azerbaijan,United States,1</td></tr><tr><td>United States,The Bahamas,959</td></tr><tr><td>New Zealand,United States,86</td></tr><tr><td>Liberia,United States,1</td></tr><tr><td>United States,Hong Kong,293</td></tr><tr><td>Hungary,United States,14</td></tr><tr><td>United States,China,505</td></tr><tr><td>United States,Vietnam,1</td></tr><tr><td>Sweden,United States,65</td></tr><tr><td>United States,Kuwait,25</td></tr><tr><td>United States,Dominican Republic,1150</td></tr><tr><td>United States,Egypt,25</td></tr><tr><td>Israel,United States,117</td></tr><tr><td>United States,United States,348113</td></tr><tr><td>United States,Luxembourg,90</td></tr><tr><td>Ethiopia,United States,12</td></tr><tr><td>United States,Poland,61</td></tr><tr><td>Martinique,United States,23</td></tr><tr><td>Saint Barthelemy,United States,28</td></tr><tr><td>United States,Saint Barthelemy,29</td></tr><tr><td>United States,Turkey,87</td></tr><tr><td>Barbados,United States,130</td></tr><tr><td>United States,Estonia,1</td></tr><tr><td>United States,Azerbaijan,1</td></tr><tr><td>Germany,United States,1392</td></tr><tr><td>Kyrgyzstan,United States,2</td></tr><tr><td>United States,South Korea,621</td></tr><tr><td>United States,El Salvador,464</td></tr><tr><td>Ireland,United States,231</td></tr><tr><td>United States,Hungary,15</td></tr><tr><td>United States,Serbia,1</td></tr><tr><td>Malaysia,United States,1</td></tr><tr><td>United States,Panama,363</td></tr><tr><td>United States,Ethiopia,12</td></tr><tr><td>United States,Aruba,349</td></tr><tr><td>United States,Thailand,13</td></tr><tr><td>United States,Netherlands Antilles,289</td></tr><tr><td>United States,Turks and Caicos Islands,147</td></tr><tr><td>Cyprus,United States,2</td></tr><tr><td>United States,Pakistan,15</td></tr><tr><td>United States,Honduras,393</td></tr><tr><td>Qatar,United States,41</td></tr><tr><td>Fiji,United States,53</td></tr><tr><td>Saint Kitts and Nevis,United States,113</td></tr><tr><td>Taiwan,United States,275</td></tr><tr><td>Haiti,United States,238</td></tr><tr><td>Kuwait,United States,26</td></tr><tr><td>Canada,United States,8271</td></tr><tr><td>Federated States of Micronesia,United States,46</td></tr><tr><td>United States,Liberia,1</td></tr><tr><td>Jamaica,United States,733</td></tr><tr><td>United States,Malta,2</td></tr><tr><td>Dominican Republic,United States,1109</td></tr><tr><td>Japan,United States,1383</td></tr><tr><td>United States,Saint Vincent and the Grenadines,16</td></tr><tr><td>United States,Guadeloupe,33</td></tr><tr><td>Finland,United States,24</td></tr><tr><td>United States,Ukraine,17</td></tr><tr><td>United States,France,776</td></tr><tr><td>United States,Norway,36</td></tr><tr><td>Aruba,United States,359</td></tr><tr><td>French Guiana,United States,4</td></tr><tr><td>United States,Kiribati,18</td></tr><tr><td>India,United States,66</td></tr><tr><td>British Virgin Islands,United States,49</td></tr><tr><td>United States,Germany,1406</td></tr><tr><td>Brazil,United States,995</td></tr><tr><td>United States,New Zealand,71</td></tr><tr><td>French Polynesia,United States,38</td></tr><tr><td>United Arab Emirates,United States,165</td></tr><tr><td>Singapore,United States,25</td></tr><tr><td>United States,Mexico,6220</td></tr><tr><td>Netherlands,United States,586</td></tr><tr><td>United States,Sweden,73</td></tr><tr><td>United States,Gabon,1</td></tr><tr><td>United States,Martinique,20</td></tr><tr><td>United States,United Arab Emirates,156</td></tr><tr><td>United States,Bulgaria,2</td></tr><tr><td>China,United States,448</td></tr><tr><td>Denmark,United States,98</td></tr><tr><td>United States,Philippines,116</td></tr><tr><td>United States,Nicaragua,181</td></tr><tr><td>United States,Belgium,355</td></tr><tr><td>Peru,United States,212</td></tr><tr><td>Argentina,United States,184</td></tr><tr><td>Cayman Islands,United States,247</td></tr><tr><td>South Africa,United States,25</td></tr><tr><td>United States,Iceland,129</td></tr><tr><td>United States,Argentina,159</td></tr><tr><td>Spain,United States,422</td></tr><tr><td>Netherlands Antilles,United States,286</td></tr><tr><td>Bermuda,United States,183</td></tr><tr><td>United States,Austria,34</td></tr><tr><td>United States,Nigeria,18</td></tr><tr><td>United States,\"Bonaire, Sint Eustatius, and Saba\",16</td></tr><tr><td>Kiribati,United States,17</td></tr><tr><td>Saudi Arabia,United States,42</td></tr><tr><td>Czech Republic,United States,21</td></tr><tr><td>Belgium,United States,408</td></tr><tr><td>United States,Israel,122</td></tr><tr><td>United States,Bahrain,1</td></tr><tr><td>United States,Saint Lucia,121</td></tr><tr><td>Afghanistan,United States,11</td></tr><tr><td>United States,British Virgin Islands,47</td></tr><tr><td>Curacao,United States,20</td></tr><tr><td>Georgia,United States,2</td></tr><tr><td>United States,Guyana,20</td></tr><tr><td>United States,Denmark,107</td></tr><tr><td>Philippines,United States,132</td></tr><tr><td>Grenada,United States,65</td></tr><tr><td>Cape Verde,United States,18</td></tr><tr><td>Ukraine,United States,19</td></tr><tr><td>United States,Papua New Guinea,1</td></tr><tr><td>United States,Saudi Arabia,54</td></tr><tr><td>Russia,United States,152</td></tr><tr><td>Guatemala,United States,386</td></tr><tr><td>Saint Lucia,United States,116</td></tr><tr><td>Paraguay,United States,90</td></tr><tr><td>United States,Curacao,14</td></tr><tr><td>United States,Taiwan,252</td></tr><tr><td>United States,South Africa,15</td></tr><tr><td>Turkey,United States,75</td></tr><tr><td>United Kingdom,United States,1629</td></tr><tr><td>United States,Greenland,2</td></tr><tr><td>United States,Spain,442</td></tr><tr><td>Cuba,United States,243</td></tr><tr><td>United States,Italy,433</td></tr><tr><td>United States,Switzerland,334</td></tr><tr><td>Dominica,United States,28</td></tr><tr><td>United States,Japan,1307</td></tr><tr><td>Portugal,United States,102</td></tr><tr><td>United States,Brazil,578</td></tr><tr><td>Bahrain,United States,30</td></tr><tr><td>United States,Peru,284</td></tr><tr><td>Vietnam,United States,1</td></tr><tr><td>United States,United Kingdom,1503</td></tr><tr><td>United States,Belize,118</td></tr><tr><td>Belize,United States,121</td></tr><tr><td>United States,Ghana,28</td></tr><tr><td>United States,Indonesia,1</td></tr><tr><td>United States,Fiji,51</td></tr><tr><td>United States,Canada,8305</td></tr><tr><td>United States,French Polynesia,38</td></tr><tr><td>United States,Antigua and Barbuda,121</td></tr><tr><td>United States,Burkina Faso,1</td></tr><tr><td>Nicaragua,United States,178</td></tr><tr><td>United States,Latvia,13</td></tr><tr><td>United States,Dominica,32</td></tr><tr><td>United States,Czech Republic,22</td></tr><tr><td>United States,Australia,216</td></tr><tr><td>Austria,United States,36</td></tr><tr><td>United States,Cook Islands,12</td></tr><tr><td>Jordan,United States,50</td></tr><tr><td>Palau,United States,31</td></tr><tr><td>Uganda,United States,2</td></tr><tr><td>United States,Cameroon,1</td></tr><tr><td>South Korea,United States,683</td></tr><tr><td>Angola,United States,14</td></tr><tr><td>Ghana,United States,27</td></tr><tr><td>Guadeloupe,United States,40</td></tr><tr><td>France,United States,774</td></tr><tr><td>United States,Kyrgyzstan,12</td></tr><tr><td>Poland,United States,62</td></tr><tr><td>Nigeria,United States,16</td></tr><tr><td>United States,Uruguay,24</td></tr><tr><td>Greenland,United States,2</td></tr><tr><td>Chile,United States,166</td></tr><tr><td>United States,Bermuda,180</td></tr><tr><td>United States,Cuba,235</td></tr><tr><td>United States,Colombia,832</td></tr><tr><td>United States,Qatar,40</td></tr><tr><td>United States,Barbados,119</td></tr><tr><td>Australia,United States,290</td></tr><tr><td>United States,Jordan,51</td></tr><tr><td>United States,Cayman Islands,251</td></tr><tr><td>United States,Trinidad and Tobago,200</td></tr><tr><td>United States,Bolivia,39</td></tr><tr><td>United States,Slovakia,1</td></tr><tr><td>Uruguay,United States,54</td></tr><tr><td>Cook Islands,United States,13</td></tr><tr><td>United States,Saint Kitts and Nevis,127</td></tr><tr><td>Bulgaria,United States,1</td></tr><tr><td>United States,French Guiana,1</td></tr><tr><td>United States,Haiti,226</td></tr><tr><td>United States,Uganda,1</td></tr><tr><td>\"Bonaire, Sint Eustatius, and Saba\",United States,16</td></tr><tr><td>Greece,United States,50</td></tr></tbody></table></div>"
      ]
     },
     "metadata": {
      "application/vnd.databricks.v1+output": {
       "addedWidgets": {},
       "aggData": [],
       "aggError": "",
       "aggOverflow": false,
       "aggSchema": [],
       "aggSeriesLimitReached": false,
       "aggType": "",
       "arguments": {},
       "columnCustomDisplayInfos": {},
       "data": [
        [
         "DEST_COUNTRY_NAME,ORIGIN_COUNTRY_NAME,count"
        ],
        [
         "United States,Romania,1"
        ],
        [
         "United States,Ireland,264"
        ],
        [
         "United States,India,69"
        ],
        [
         "Egypt,United States,24"
        ],
        [
         "Equatorial Guinea,United States,1"
        ],
        [
         "United States,Singapore,25"
        ],
        [
         "United States,Grenada,54"
        ],
        [
         "Costa Rica,United States,477"
        ],
        [
         "Senegal,United States,29"
        ],
        [
         "United States,Marshall Islands,44"
        ],
        [
         "Guyana,United States,17"
        ],
        [
         "United States,Sint Maarten,53"
        ],
        [
         "Malta,United States,1"
        ],
        [
         "Bolivia,United States,46"
        ],
        [
         "Anguilla,United States,21"
        ],
        [
         "Turks and Caicos Islands,United States,136"
        ],
        [
         "United States,Afghanistan,2"
        ],
        [
         "Saint Vincent and the Grenadines,United States,1"
        ],
        [
         "Italy,United States,390"
        ],
        [
         "United States,Russia,156"
        ],
        [
         "United States,Federated States of Micronesia,48"
        ],
        [
         "Pakistan,United States,9"
        ],
        [
         "United States,Netherlands,570"
        ],
        [
         "Iceland,United States,118"
        ],
        [
         "Marshall Islands,United States,77"
        ],
        [
         "Luxembourg,United States,91"
        ],
        [
         "Honduras,United States,391"
        ],
        [
         "The Bahamas,United States,903"
        ],
        [
         "El Salvador,United States,519"
        ],
        [
         "United States,Senegal,46"
        ],
        [
         "Samoa,United States,28"
        ],
        [
         "United States,Angola,18"
        ],
        [
         "Kazakhstan,United States,3"
        ],
        [
         "Switzerland,United States,315"
        ],
        [
         "United States,Anguilla,20"
        ],
        [
         "Sint Maarten,United States,61"
        ],
        [
         "Hong Kong,United States,252"
        ],
        [
         "Trinidad and Tobago,United States,187"
        ],
        [
         "Latvia,United States,12"
        ],
        [
         "United States,Ecuador,345"
        ],
        [
         "Slovakia,United States,1"
        ],
        [
         "Suriname,United States,12"
        ],
        [
         "Mexico,United States,6200"
        ],
        [
         "United States,Cyprus,1"
        ],
        [
         "Ecuador,United States,272"
        ],
        [
         "United States,Bosnia and Herzegovina,1"
        ],
        [
         "United States,Portugal,104"
        ],
        [
         "United States,Costa Rica,501"
        ],
        [
         "United States,Guatemala,333"
        ],
        [
         "United States,Suriname,13"
        ],
        [
         "Colombia,United States,785"
        ],
        [
         "United States,Cape Verde,18"
        ],
        [
         "United States,Jamaica,757"
        ],
        [
         "United States,Malaysia,3"
        ],
        [
         "Norway,United States,29"
        ],
        [
         "United States,Morocco,16"
        ],
        [
         "Thailand,United States,16"
        ],
        [
         "Venezuela,United States,377"
        ],
        [
         "United States,Palau,30"
        ],
        [
         "United States,Samoa,28"
        ],
        [
         "United States,Algeria,1"
        ],
        [
         "United States,Venezuela,341"
        ],
        [
         "Panama,United States,355"
        ],
        [
         "United States,Finland,20"
        ],
        [
         "United States,Chile,176"
        ],
        [
         "Morocco,United States,16"
        ],
        [
         "United States,Greece,61"
        ],
        [
         "Antigua and Barbuda,United States,123"
        ],
        [
         "Azerbaijan,United States,1"
        ],
        [
         "United States,The Bahamas,959"
        ],
        [
         "New Zealand,United States,86"
        ],
        [
         "Liberia,United States,1"
        ],
        [
         "United States,Hong Kong,293"
        ],
        [
         "Hungary,United States,14"
        ],
        [
         "United States,China,505"
        ],
        [
         "United States,Vietnam,1"
        ],
        [
         "Sweden,United States,65"
        ],
        [
         "United States,Kuwait,25"
        ],
        [
         "United States,Dominican Republic,1150"
        ],
        [
         "United States,Egypt,25"
        ],
        [
         "Israel,United States,117"
        ],
        [
         "United States,United States,348113"
        ],
        [
         "United States,Luxembourg,90"
        ],
        [
         "Ethiopia,United States,12"
        ],
        [
         "United States,Poland,61"
        ],
        [
         "Martinique,United States,23"
        ],
        [
         "Saint Barthelemy,United States,28"
        ],
        [
         "United States,Saint Barthelemy,29"
        ],
        [
         "United States,Turkey,87"
        ],
        [
         "Barbados,United States,130"
        ],
        [
         "United States,Estonia,1"
        ],
        [
         "United States,Azerbaijan,1"
        ],
        [
         "Germany,United States,1392"
        ],
        [
         "Kyrgyzstan,United States,2"
        ],
        [
         "United States,South Korea,621"
        ],
        [
         "United States,El Salvador,464"
        ],
        [
         "Ireland,United States,231"
        ],
        [
         "United States,Hungary,15"
        ],
        [
         "United States,Serbia,1"
        ],
        [
         "Malaysia,United States,1"
        ],
        [
         "United States,Panama,363"
        ],
        [
         "United States,Ethiopia,12"
        ],
        [
         "United States,Aruba,349"
        ],
        [
         "United States,Thailand,13"
        ],
        [
         "United States,Netherlands Antilles,289"
        ],
        [
         "United States,Turks and Caicos Islands,147"
        ],
        [
         "Cyprus,United States,2"
        ],
        [
         "United States,Pakistan,15"
        ],
        [
         "United States,Honduras,393"
        ],
        [
         "Qatar,United States,41"
        ],
        [
         "Fiji,United States,53"
        ],
        [
         "Saint Kitts and Nevis,United States,113"
        ],
        [
         "Taiwan,United States,275"
        ],
        [
         "Haiti,United States,238"
        ],
        [
         "Kuwait,United States,26"
        ],
        [
         "Canada,United States,8271"
        ],
        [
         "Federated States of Micronesia,United States,46"
        ],
        [
         "United States,Liberia,1"
        ],
        [
         "Jamaica,United States,733"
        ],
        [
         "United States,Malta,2"
        ],
        [
         "Dominican Republic,United States,1109"
        ],
        [
         "Japan,United States,1383"
        ],
        [
         "United States,Saint Vincent and the Grenadines,16"
        ],
        [
         "United States,Guadeloupe,33"
        ],
        [
         "Finland,United States,24"
        ],
        [
         "United States,Ukraine,17"
        ],
        [
         "United States,France,776"
        ],
        [
         "United States,Norway,36"
        ],
        [
         "Aruba,United States,359"
        ],
        [
         "French Guiana,United States,4"
        ],
        [
         "United States,Kiribati,18"
        ],
        [
         "India,United States,66"
        ],
        [
         "British Virgin Islands,United States,49"
        ],
        [
         "United States,Germany,1406"
        ],
        [
         "Brazil,United States,995"
        ],
        [
         "United States,New Zealand,71"
        ],
        [
         "French Polynesia,United States,38"
        ],
        [
         "United Arab Emirates,United States,165"
        ],
        [
         "Singapore,United States,25"
        ],
        [
         "United States,Mexico,6220"
        ],
        [
         "Netherlands,United States,586"
        ],
        [
         "United States,Sweden,73"
        ],
        [
         "United States,Gabon,1"
        ],
        [
         "United States,Martinique,20"
        ],
        [
         "United States,United Arab Emirates,156"
        ],
        [
         "United States,Bulgaria,2"
        ],
        [
         "China,United States,448"
        ],
        [
         "Denmark,United States,98"
        ],
        [
         "United States,Philippines,116"
        ],
        [
         "United States,Nicaragua,181"
        ],
        [
         "United States,Belgium,355"
        ],
        [
         "Peru,United States,212"
        ],
        [
         "Argentina,United States,184"
        ],
        [
         "Cayman Islands,United States,247"
        ],
        [
         "South Africa,United States,25"
        ],
        [
         "United States,Iceland,129"
        ],
        [
         "United States,Argentina,159"
        ],
        [
         "Spain,United States,422"
        ],
        [
         "Netherlands Antilles,United States,286"
        ],
        [
         "Bermuda,United States,183"
        ],
        [
         "United States,Austria,34"
        ],
        [
         "United States,Nigeria,18"
        ],
        [
         "United States,\"Bonaire, Sint Eustatius, and Saba\",16"
        ],
        [
         "Kiribati,United States,17"
        ],
        [
         "Saudi Arabia,United States,42"
        ],
        [
         "Czech Republic,United States,21"
        ],
        [
         "Belgium,United States,408"
        ],
        [
         "United States,Israel,122"
        ],
        [
         "United States,Bahrain,1"
        ],
        [
         "United States,Saint Lucia,121"
        ],
        [
         "Afghanistan,United States,11"
        ],
        [
         "United States,British Virgin Islands,47"
        ],
        [
         "Curacao,United States,20"
        ],
        [
         "Georgia,United States,2"
        ],
        [
         "United States,Guyana,20"
        ],
        [
         "United States,Denmark,107"
        ],
        [
         "Philippines,United States,132"
        ],
        [
         "Grenada,United States,65"
        ],
        [
         "Cape Verde,United States,18"
        ],
        [
         "Ukraine,United States,19"
        ],
        [
         "United States,Papua New Guinea,1"
        ],
        [
         "United States,Saudi Arabia,54"
        ],
        [
         "Russia,United States,152"
        ],
        [
         "Guatemala,United States,386"
        ],
        [
         "Saint Lucia,United States,116"
        ],
        [
         "Paraguay,United States,90"
        ],
        [
         "United States,Curacao,14"
        ],
        [
         "United States,Taiwan,252"
        ],
        [
         "United States,South Africa,15"
        ],
        [
         "Turkey,United States,75"
        ],
        [
         "United Kingdom,United States,1629"
        ],
        [
         "United States,Greenland,2"
        ],
        [
         "United States,Spain,442"
        ],
        [
         "Cuba,United States,243"
        ],
        [
         "United States,Italy,433"
        ],
        [
         "United States,Switzerland,334"
        ],
        [
         "Dominica,United States,28"
        ],
        [
         "United States,Japan,1307"
        ],
        [
         "Portugal,United States,102"
        ],
        [
         "United States,Brazil,578"
        ],
        [
         "Bahrain,United States,30"
        ],
        [
         "United States,Peru,284"
        ],
        [
         "Vietnam,United States,1"
        ],
        [
         "United States,United Kingdom,1503"
        ],
        [
         "United States,Belize,118"
        ],
        [
         "Belize,United States,121"
        ],
        [
         "United States,Ghana,28"
        ],
        [
         "United States,Indonesia,1"
        ],
        [
         "United States,Fiji,51"
        ],
        [
         "United States,Canada,8305"
        ],
        [
         "United States,French Polynesia,38"
        ],
        [
         "United States,Antigua and Barbuda,121"
        ],
        [
         "United States,Burkina Faso,1"
        ],
        [
         "Nicaragua,United States,178"
        ],
        [
         "United States,Latvia,13"
        ],
        [
         "United States,Dominica,32"
        ],
        [
         "United States,Czech Republic,22"
        ],
        [
         "United States,Australia,216"
        ],
        [
         "Austria,United States,36"
        ],
        [
         "United States,Cook Islands,12"
        ],
        [
         "Jordan,United States,50"
        ],
        [
         "Palau,United States,31"
        ],
        [
         "Uganda,United States,2"
        ],
        [
         "United States,Cameroon,1"
        ],
        [
         "South Korea,United States,683"
        ],
        [
         "Angola,United States,14"
        ],
        [
         "Ghana,United States,27"
        ],
        [
         "Guadeloupe,United States,40"
        ],
        [
         "France,United States,774"
        ],
        [
         "United States,Kyrgyzstan,12"
        ],
        [
         "Poland,United States,62"
        ],
        [
         "Nigeria,United States,16"
        ],
        [
         "United States,Uruguay,24"
        ],
        [
         "Greenland,United States,2"
        ],
        [
         "Chile,United States,166"
        ],
        [
         "United States,Bermuda,180"
        ],
        [
         "United States,Cuba,235"
        ],
        [
         "United States,Colombia,832"
        ],
        [
         "United States,Qatar,40"
        ],
        [
         "United States,Barbados,119"
        ],
        [
         "Australia,United States,290"
        ],
        [
         "United States,Jordan,51"
        ],
        [
         "United States,Cayman Islands,251"
        ],
        [
         "United States,Trinidad and Tobago,200"
        ],
        [
         "United States,Bolivia,39"
        ],
        [
         "United States,Slovakia,1"
        ],
        [
         "Uruguay,United States,54"
        ],
        [
         "Cook Islands,United States,13"
        ],
        [
         "United States,Saint Kitts and Nevis,127"
        ],
        [
         "Bulgaria,United States,1"
        ],
        [
         "United States,French Guiana,1"
        ],
        [
         "United States,Haiti,226"
        ],
        [
         "United States,Uganda,1"
        ],
        [
         "\"Bonaire, Sint Eustatius, and Saba\",United States,16"
        ],
        [
         "Greece,United States,50"
        ]
       ],
       "datasetInfos": [],
       "dbfsResultPath": null,
       "isJsonSchema": true,
       "metadata": {},
       "overflow": false,
       "plotOptions": {
        "customPlotOptions": {},
        "displayType": "table",
        "pivotAggregation": null,
        "pivotColumns": null,
        "xColumns": null,
        "yColumns": null
       },
       "removedWidgets": [],
       "schema": [
        {
         "metadata": "{}",
         "name": "value",
         "type": "\"string\""
        }
       ],
       "type": "table"
      }
     },
     "output_type": "display_data"
    }
   ],
   "source": [
    "# Read csv file from DBFS\n",
    "csv_df = spark.read.text(\"/FileStore/2010_summary-1.csv\")\n",
    "\n",
    "# Show the DataFrame\n",
    "csv_df.display()"
   ]
  }
 ],
 "metadata": {
  "application/vnd.databricks.v1+notebook": {
   "dashboards": [],
   "language": "python",
   "notebookMetadata": {
    "pythonIndentUnit": 4
   },
   "notebookName": "reading_csv file",
   "widgets": {}
  }
 },
 "nbformat": 4,
 "nbformat_minor": 0
}
